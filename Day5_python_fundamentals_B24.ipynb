{
 "cells": [
  {
   "cell_type": "code",
   "execution_count": 1,
   "metadata": {},
   "outputs": [],
   "source": [
    "my_students = ['nikhitha','kiran','meenakshi','ananth','sameer','aparna']"
   ]
  },
  {
   "cell_type": "code",
   "execution_count": 2,
   "metadata": {},
   "outputs": [
    {
     "name": "stdout",
     "output_type": "stream",
     "text": [
      "['nikhitha', 'kiran', 'meenakshi', 'ananth', 'sameer', 'aparna']\n"
     ]
    }
   ],
   "source": [
    "print(my_students)"
   ]
  },
  {
   "cell_type": "code",
   "execution_count": 3,
   "metadata": {},
   "outputs": [
    {
     "data": {
      "text/plain": [
       "list"
      ]
     },
     "execution_count": 3,
     "metadata": {},
     "output_type": "execute_result"
    }
   ],
   "source": [
    "type(my_students)"
   ]
  },
  {
   "cell_type": "code",
   "execution_count": 4,
   "metadata": {},
   "outputs": [
    {
     "name": "stdout",
     "output_type": "stream",
     "text": [
      "keep up good work, nikhitha\n"
     ]
    }
   ],
   "source": [
    "print(f\"keep up good work, {my_students[0]}\")"
   ]
  },
  {
   "cell_type": "code",
   "execution_count": 5,
   "metadata": {},
   "outputs": [
    {
     "name": "stdout",
     "output_type": "stream",
     "text": [
      "['nikhitha', 'kiran', 'meenakshi', 'ananth', 'sameer', 'aparna']\n"
     ]
    }
   ],
   "source": [
    "print(my_students)"
   ]
  },
  {
   "cell_type": "code",
   "execution_count": 6,
   "metadata": {},
   "outputs": [
    {
     "name": "stdout",
     "output_type": "stream",
     "text": [
      "keep up good work, nikhitha\n",
      "keep up good work, kiran\n",
      "keep up good work, meenakshi\n",
      "keep up good work, ananth\n",
      "keep up good work, sameer\n",
      "keep up good work, aparna\n"
     ]
    }
   ],
   "source": [
    "for student in my_students:\n",
    "    print(f\"keep up good work, {student}\")"
   ]
  },
  {
   "cell_type": "code",
   "execution_count": 7,
   "metadata": {},
   "outputs": [
    {
     "name": "stdout",
     "output_type": "stream",
     "text": [
      "keep up good work, nikhitha\n",
      "keep up good work, kiran\n",
      "keep up good work, meenakshi\n",
      "keep up good work, ananth\n",
      "keep up good work, sameer\n",
      "keep up good work, aparna\n"
     ]
    }
   ],
   "source": [
    "for x in my_students:\n",
    "    print(f\"keep up good work, {x}\")"
   ]
  },
  {
   "cell_type": "code",
   "execution_count": 8,
   "metadata": {},
   "outputs": [
    {
     "name": "stdout",
     "output_type": "stream",
     "text": [
      "keep up good work, nikhitha\n",
      "I am looking forward to receive your practise file, nikhitha\n",
      "keep up good work, kiran\n",
      "I am looking forward to receive your practise file, kiran\n",
      "keep up good work, meenakshi\n",
      "I am looking forward to receive your practise file, meenakshi\n",
      "keep up good work, ananth\n",
      "I am looking forward to receive your practise file, ananth\n",
      "keep up good work, sameer\n",
      "I am looking forward to receive your practise file, sameer\n",
      "keep up good work, aparna\n",
      "I am looking forward to receive your practise file, aparna\n"
     ]
    }
   ],
   "source": [
    "for student in my_students:\n",
    "    print(f\"keep up good work, {student}\")\n",
    "    print(f\"I am looking forward to receive your practise file, {student}\")"
   ]
  },
  {
   "cell_type": "code",
   "execution_count": 9,
   "metadata": {},
   "outputs": [
    {
     "name": "stdout",
     "output_type": "stream",
     "text": [
      "keep up good work, nikhitha\n",
      "I am looking forward to receive your practise file, nikhitha.\n",
      "\n",
      "keep up good work, kiran\n",
      "I am looking forward to receive your practise file, kiran.\n",
      "\n",
      "keep up good work, meenakshi\n",
      "I am looking forward to receive your practise file, meenakshi.\n",
      "\n",
      "keep up good work, ananth\n",
      "I am looking forward to receive your practise file, ananth.\n",
      "\n",
      "keep up good work, sameer\n",
      "I am looking forward to receive your practise file, sameer.\n",
      "\n",
      "keep up good work, aparna\n",
      "I am looking forward to receive your practise file, aparna.\n",
      "\n"
     ]
    }
   ],
   "source": [
    "for student in my_students:\n",
    "    print(f\"keep up good work, {student}\")\n",
    "    print(f\"I am looking forward to receive your practise file, {student}.\\n\")"
   ]
  },
  {
   "cell_type": "code",
   "execution_count": 11,
   "metadata": {},
   "outputs": [
    {
     "name": "stdout",
     "output_type": "stream",
     "text": [
      "keep up good work, nikhitha\n",
      "I am looking forward to receive your practise file, nikhitha\n",
      "keep up good work, kiran\n",
      "I am looking forward to receive your practise file, kiran\n",
      "keep up good work, meenakshi\n",
      "I am looking forward to receive your practise file, meenakshi\n",
      "keep up good work, ananth\n",
      "I am looking forward to receive your practise file, ananth\n",
      "keep up good work, sameer\n",
      "I am looking forward to receive your practise file, sameer\n",
      "keep up good work, aparna\n",
      "I am looking forward to receive your practise file, aparna\n",
      "Thankyou all for showing interest in learning python\n"
     ]
    }
   ],
   "source": [
    "for student in my_students:\n",
    "    print(f\"keep up good work, {student}\")\n",
    "    print(f\"I am looking forward to receive your practise file, {student}\")\n",
    "print(\"Thankyou all for showing interest in learning python\")"
   ]
  },
  {
   "cell_type": "code",
   "execution_count": null,
   "metadata": {},
   "outputs": [],
   "source": []
  }
 ],
 "metadata": {
  "kernelspec": {
   "display_name": "Python 3",
   "language": "python",
   "name": "python3"
  },
  "language_info": {
   "codemirror_mode": {
    "name": "ipython",
    "version": 3
   },
   "file_extension": ".py",
   "mimetype": "text/x-python",
   "name": "python",
   "nbconvert_exporter": "python",
   "pygments_lexer": "ipython3",
   "version": "3.7.6"
  }
 },
 "nbformat": 4,
 "nbformat_minor": 4
}
